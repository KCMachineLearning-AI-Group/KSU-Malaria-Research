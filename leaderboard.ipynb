{
 "cells": [
  {
   "cell_type": "code",
   "execution_count": 3,
   "metadata": {},
   "outputs": [
    {
     "ename": "ImportError",
     "evalue": "cannot import name 'RepeatedStratifiedKFold'",
     "output_type": "error",
     "traceback": [
      "\u001b[1;31m---------------------------------------------------------------------------\u001b[0m",
      "\u001b[1;31mImportError\u001b[0m                               Traceback (most recent call last)",
      "\u001b[1;32m<ipython-input-3-cf1d0fcd7824>\u001b[0m in \u001b[0;36m<module>\u001b[1;34m()\u001b[0m\n\u001b[0;32m      1\u001b[0m \u001b[1;32mfrom\u001b[0m \u001b[0msrc\u001b[0m\u001b[1;33m.\u001b[0m\u001b[0mmodels\u001b[0m\u001b[1;33m.\u001b[0m\u001b[0mmodel_template\u001b[0m \u001b[1;32mimport\u001b[0m \u001b[0mModelMyModel\u001b[0m\u001b[1;33m\u001b[0m\u001b[0m\n\u001b[0;32m      2\u001b[0m \u001b[1;32mfrom\u001b[0m \u001b[0msrc\u001b[0m\u001b[1;33m.\u001b[0m\u001b[0mmodels\u001b[0m\u001b[1;33m.\u001b[0m\u001b[0mmodel_correlation_grouper\u001b[0m \u001b[1;32mimport\u001b[0m \u001b[0mModelCorrelationGrouper\u001b[0m\u001b[1;33m\u001b[0m\u001b[0m\n\u001b[1;32m----> 3\u001b[1;33m \u001b[1;32mfrom\u001b[0m \u001b[0msrc\u001b[0m\u001b[1;33m.\u001b[0m\u001b[0mmodel_validation\u001b[0m \u001b[1;32mimport\u001b[0m \u001b[0mModelValidation\u001b[0m\u001b[1;33m\u001b[0m\u001b[0m\n\u001b[0m\u001b[0;32m      4\u001b[0m \u001b[1;33m\u001b[0m\u001b[0m\n\u001b[0;32m      5\u001b[0m \"\"\"\n",
      "\u001b[1;32mC:\\Users\\1517766115.CIV\\Desktop\\KSU-Malaria-Research-Kate-Branch\\src\\model_validation.py\u001b[0m in \u001b[0;36m<module>\u001b[1;34m()\u001b[0m\n\u001b[1;32m----> 1\u001b[1;33m \u001b[1;32mfrom\u001b[0m \u001b[0msklearn\u001b[0m\u001b[1;33m.\u001b[0m\u001b[0mmodel_selection\u001b[0m \u001b[1;32mimport\u001b[0m \u001b[0mRepeatedStratifiedKFold\u001b[0m\u001b[1;33m\u001b[0m\u001b[0m\n\u001b[0m\u001b[0;32m      2\u001b[0m \u001b[1;32mfrom\u001b[0m \u001b[0msklearn\u001b[0m\u001b[1;33m.\u001b[0m\u001b[0mmetrics\u001b[0m \u001b[1;32mimport\u001b[0m \u001b[0mlog_loss\u001b[0m\u001b[1;33m,\u001b[0m \u001b[0mroc_auc_score\u001b[0m\u001b[1;33m,\u001b[0m \u001b[0mconfusion_matrix\u001b[0m\u001b[1;33m,\u001b[0m \u001b[0mclassification_report\u001b[0m\u001b[1;33m\u001b[0m\u001b[0m\n\u001b[0;32m      3\u001b[0m \u001b[1;32mfrom\u001b[0m \u001b[0msklearn\u001b[0m\u001b[1;33m.\u001b[0m\u001b[0mmetrics\u001b[0m \u001b[1;32mimport\u001b[0m \u001b[0mmean_squared_error\u001b[0m\u001b[1;33m,\u001b[0m \u001b[0mr2_score\u001b[0m\u001b[1;33m\u001b[0m\u001b[0m\n\u001b[0;32m      4\u001b[0m \u001b[1;32mfrom\u001b[0m \u001b[0mnumpy\u001b[0m \u001b[1;32mimport\u001b[0m \u001b[0msqrt\u001b[0m\u001b[1;33m,\u001b[0m \u001b[0mmean\u001b[0m\u001b[1;33m\u001b[0m\u001b[0m\n\u001b[0;32m      5\u001b[0m \u001b[1;32mfrom\u001b[0m \u001b[0mpandas\u001b[0m \u001b[1;32mimport\u001b[0m \u001b[0mDataFrame\u001b[0m\u001b[1;33m,\u001b[0m \u001b[0mSeries\u001b[0m\u001b[1;33m\u001b[0m\u001b[0m\n",
      "\u001b[1;31mImportError\u001b[0m: cannot import name 'RepeatedStratifiedKFold'"
     ]
    }
   ],
   "source": [
    "from src.models.model_template import ModelMyModel\n",
    "from src.models.model_correlation_grouper import ModelCorrelationGrouper\n",
    "from src.models.model_support_vector_machine import ModelSupportVectorRegressor\n",
    "from src.model_validation import ModelValidation\n",
    "\n",
    "\"\"\"\n",
    "Standard leaderboard.py implementation\n",
    "Used for comparing model selection, features engineering, feature selection and other techniques\n",
    "with a standardized pipeline. Add implementations to the leaderboard_regressors list. Run from\n",
    "command line with `python leaderboard.py` from the project root.\n",
    "\"\"\"\n",
    "\n",
    "# Initialize ModelValidation class\n",
    "validation = ModelValidation()\n",
    "\n",
    "leaderboard_regressors = [\n",
    "    #ModelMyModel(),\n",
    "    #ModelCorrelationGrouper(),\n",
    "    ModelSupportVectorRegressor()\n",
    "    # TODO add additional regression implementations\n",
    "]\n",
    "leaderboard_reg_scores = []\n",
    "\n",
    "\n",
    "def score():\n",
    "    for model_class in leaderboard_regressors:\n",
    "        print(\"Running %s\" % model_class.__class__.__name__ + \"....\")\n",
    "        x_train, x_test, y_train, y_scaler, model = model_class.get_validation_support()\n",
    "        validation_result = validation.score_regressor(\n",
    "            x_train, y_train, model,\n",
    "            pos_split=y_scaler.transform([[2.1]])\n",
    "        )\n",
    "        leaderboard_reg_scores.append(validation_result)\n",
    "        print()\n",
    "        print(\"Test Prediction:\")\n",
    "        print(model_class.get_test_prediction())\n",
    "        print(\"\\n\")\n",
    "\n",
    "\n",
    "# Run from command line `python leaderboard.py` to view results\n",
    "if __name__ == \"__main__\":\n",
    "    print()\n",
    "    score()\n"
   ]
  },
  {
   "cell_type": "code",
   "execution_count": 5,
   "metadata": {},
   "outputs": [
    {
     "name": "stdout",
     "output_type": "stream",
     "text": [
      "Collecting sklearn\n",
      "  Using cached https://files.pythonhosted.org/packages/1e/7a/dbb3be0ce9bd5c8b7e3d87328e79063f8b263b2b1bfa4774cb1147bfcd3f/sklearn-0.0.tar.gz\n",
      "Requirement already satisfied: scikit-learn in c:\\program files\\anaconda3\\lib\\site-packages (from sklearn)\n",
      "Building wheels for collected packages: sklearn\n",
      "  Running setup.py bdist_wheel for sklearn: started\n",
      "  Running setup.py bdist_wheel for sklearn: finished with status 'done'\n",
      "  Stored in directory: C:\\Users\\1517766115.CIV\\AppData\\Local\\pip\\Cache\\wheels\\76\\03\\bb\\589d421d27431bcd2c6da284d5f2286c8e3b2ea3cf1594c074\n",
      "Successfully built sklearn\n",
      "Installing collected packages: sklearn\n"
     ]
    },
    {
     "name": "stderr",
     "output_type": "stream",
     "text": [
      "Exception:\n",
      "Traceback (most recent call last):\n",
      "  File \"C:\\Program Files\\Anaconda3\\lib\\site-packages\\pip\\basecommand.py\", line 215, in main\n",
      "    status = self.run(options, args)\n",
      "  File \"C:\\Program Files\\Anaconda3\\lib\\site-packages\\pip\\commands\\install.py\", line 342, in run\n",
      "    prefix=options.prefix_path,\n",
      "  File \"C:\\Program Files\\Anaconda3\\lib\\site-packages\\pip\\req\\req_set.py\", line 784, in install\n",
      "    **kwargs\n",
      "  File \"C:\\Program Files\\Anaconda3\\lib\\site-packages\\pip\\req\\req_install.py\", line 851, in install\n",
      "    self.move_wheel_files(self.source_dir, root=root, prefix=prefix)\n",
      "  File \"C:\\Program Files\\Anaconda3\\lib\\site-packages\\pip\\req\\req_install.py\", line 1064, in move_wheel_files\n",
      "    isolated=self.isolated,\n",
      "  File \"C:\\Program Files\\Anaconda3\\lib\\site-packages\\pip\\wheel.py\", line 345, in move_wheel_files\n",
      "    clobber(source, lib_dir, True)\n",
      "  File \"C:\\Program Files\\Anaconda3\\lib\\site-packages\\pip\\wheel.py\", line 316, in clobber\n",
      "    ensure_dir(destdir)\n",
      "  File \"C:\\Program Files\\Anaconda3\\lib\\site-packages\\pip\\utils\\__init__.py\", line 83, in ensure_dir\n",
      "    os.makedirs(path)\n",
      "  File \"C:\\Program Files\\Anaconda3\\lib\\os.py\", line 220, in makedirs\n",
      "    mkdir(name, mode)\n",
      "PermissionError: [WinError 5] Access is denied: 'C:\\\\Program Files\\\\Anaconda3\\\\Lib\\\\site-packages\\\\sklearn-0.0.dist-info'\n",
      "You are using pip version 9.0.1, however version 10.0.1 is available.\n",
      "You should consider upgrading via the 'python -m pip install --upgrade pip' command.\n"
     ]
    }
   ],
   "source": [
    "!pip install sklearn"
   ]
  },
  {
   "cell_type": "code",
   "execution_count": null,
   "metadata": {
    "collapsed": true
   },
   "outputs": [],
   "source": []
  }
 ],
 "metadata": {
  "kernelspec": {
   "display_name": "Python 3",
   "language": "python",
   "name": "python3"
  },
  "language_info": {
   "codemirror_mode": {
    "name": "ipython",
    "version": 3
   },
   "file_extension": ".py",
   "mimetype": "text/x-python",
   "name": "python",
   "nbconvert_exporter": "python",
   "pygments_lexer": "ipython3",
   "version": "3.6.1"
  }
 },
 "nbformat": 4,
 "nbformat_minor": 2
}

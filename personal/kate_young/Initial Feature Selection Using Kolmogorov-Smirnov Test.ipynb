{
 "cells": [
  {
   "cell_type": "code",
   "execution_count": 60,
   "metadata": {
    "collapsed": true
   },
   "outputs": [],
   "source": [
    "import pandas as pd\n",
    "from scipy import stats as st\n",
    "from sklearn.svm import LinearSVR\n",
    "\n",
    "SEED = 0"
   ]
  },
  {
   "cell_type": "markdown",
   "metadata": {},
   "source": [
    "## Read in Data"
   ]
  },
  {
   "cell_type": "code",
   "execution_count": 64,
   "metadata": {},
   "outputs": [],
   "source": [
    "df = pd.read_csv(\"../../src/data/source_data/Series3_6.15.17_padel.csv\").set_index(\"Name\")\n",
    "test = pd.isna(df[\"IC50\"])\n",
    "train = ~test"
   ]
  },
  {
   "cell_type": "markdown",
   "metadata": {},
   "source": [
    "## Remove Features with 0 Variance"
   ]
  },
  {
   "cell_type": "code",
   "execution_count": 65,
   "metadata": {},
   "outputs": [
    {
     "name": "stdout",
     "output_type": "stream",
     "text": [
      "Removing Features with no Variance...\n",
      "\t  Features Removed: 350\n",
      "\tFeatures Remaining: 1094\n"
     ]
    }
   ],
   "source": [
    "before = len(df.columns) - 1 \n",
    "print(\"Removing Features with no Variance...\")\n",
    "df = df.loc[:, df.std() > 0]\n",
    "print(\"\\t  Features Removed: {}\".format(before - len(df.columns)))\n",
    "print(\"\\tFeatures Remaining: {}\".format(len(df.columns)))"
   ]
  },
  {
   "cell_type": "markdown",
   "metadata": {},
   "source": [
    "## Remove Features with Less than 3 Unique Values"
   ]
  },
  {
   "cell_type": "code",
   "execution_count": 67,
   "metadata": {},
   "outputs": [
    {
     "name": "stdout",
     "output_type": "stream",
     "text": [
      "Removing Features with Less than 3 unique values...\n",
      "\t  Features Removed: 674\n",
      "\tFeatures Remaining: 339\n"
     ]
    }
   ],
   "source": [
    "before = len(df.columns) - 1\n",
    "print(\"Removing Features with Less than 3 unique values...\")\n",
    "df = df.loc[:, df.nunique() > 3]\n",
    "print(\"\\t  Features Removed: {}\".format(before - len(filtered_features)))\n",
    "print(\"\\tFeatures Remaining: {}\".format(len(filtered_features)))"
   ]
  },
  {
   "cell_type": "markdown",
   "metadata": {},
   "source": [
    "## Remove Features Based on Kolmogorov-Smirnov Test Comparing Test and Train Features"
   ]
  },
  {
   "cell_type": "code",
   "execution_count": 68,
   "metadata": {},
   "outputs": [
    {
     "name": "stdout",
     "output_type": "stream",
     "text": [
      "Remove Features where the Test and Train sets are different...\n",
      "\t  Features Removed: 675\n",
      "\tFeatures Remaining: 339\n"
     ]
    }
   ],
   "source": [
    "filtered_features = list()\n",
    "a = 0.10\n",
    "before = len(df.columns)\n",
    "\n",
    "for f in df.dropna(axis=1).columns:\n",
    "    ks = st.ks_2samp(df.loc[test, f], df.loc[train, f])\n",
    "    # if p-value > a, add to list\n",
    "    if ks[1] > a:\n",
    "        filtered_features.append(f)\n",
    "print(\"Remove Features where the Test and Train sets are different...\")\n",
    "print(\"\\t  Features Removed: {}\".format(before - len(filtered_features)))\n",
    "print(\"\\tFeatures Remaining: {}\".format(len(filtered_features)))"
   ]
  },
  {
   "cell_type": "code",
   "execution_count": 69,
   "metadata": {},
   "outputs": [],
   "source": [
    "x_train = df.loc[train, filtered_features]\n",
    "y_train = df.loc[train, \"IC50\"]\n",
    "x_test  = df.loc[test, filtered_features]"
   ]
  },
  {
   "cell_type": "markdown",
   "metadata": {},
   "source": [
    "## Run SVR on all Selected Features"
   ]
  },
  {
   "cell_type": "code",
   "execution_count": 71,
   "metadata": {},
   "outputs": [
    {
     "data": {
      "text/plain": [
       "0.38667542271162014"
      ]
     },
     "execution_count": 71,
     "metadata": {},
     "output_type": "execute_result"
    }
   ],
   "source": [
    "svr = LinearSVR(random_state=SEED)\n",
    "svr.fit(x_train, y_train)\n",
    "svr.score(x_train,y_train)"
   ]
  },
  {
   "cell_type": "code",
   "execution_count": null,
   "metadata": {
    "collapsed": true
   },
   "outputs": [],
   "source": []
  }
 ],
 "metadata": {
  "kernelspec": {
   "display_name": "Python 3",
   "language": "python",
   "name": "python3"
  },
  "language_info": {
   "codemirror_mode": {
    "name": "ipython",
    "version": 3
   },
   "file_extension": ".py",
   "mimetype": "text/x-python",
   "name": "python",
   "nbconvert_exporter": "python",
   "pygments_lexer": "ipython3",
   "version": "3.6.3"
  }
 },
 "nbformat": 4,
 "nbformat_minor": 2
}

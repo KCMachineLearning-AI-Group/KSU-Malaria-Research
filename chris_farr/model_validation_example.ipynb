{
 "cells": [
  {
   "cell_type": "markdown",
   "metadata": {},
   "source": [
    "### Model Validation Starting Template"
   ]
  },
  {
   "cell_type": "markdown",
   "metadata": {},
   "source": [
    "#### Module Imports"
   ]
  },
  {
   "cell_type": "code",
   "execution_count": 1,
   "metadata": {},
   "outputs": [],
   "source": [
    "%load_ext autoreload\n",
    "%autoreload 2\n",
    "import pandas as pd\n",
    "import numpy as np\n",
    "from sklearn.ensemble import AdaBoostClassifier, AdaBoostRegressor\n",
    "import sys\n",
    "sys.path.append(\"..\")\n",
    "from model_validation import ModelValidation"
   ]
  },
  {
   "cell_type": "markdown",
   "metadata": {},
   "source": [
    "#### Load data from \"data\" folder"
   ]
  },
  {
   "cell_type": "code",
   "execution_count": 2,
   "metadata": {},
   "outputs": [],
   "source": [
    "# For example (consider example to be a unit test)\n",
    "example_x = \"../data/example_x.csv\"\n",
    "example_y = \"../data/example_y.csv\""
   ]
  },
  {
   "cell_type": "code",
   "execution_count": 3,
   "metadata": {},
   "outputs": [],
   "source": [
    "# Train options:\n",
    "series_3 = \"data/Series3_6.15.17_padel.csv\""
   ]
  },
  {
   "cell_type": "markdown",
   "metadata": {},
   "source": [
    "#### Preprocess Dataset"
   ]
  },
  {
   "cell_type": "code",
   "execution_count": 4,
   "metadata": {},
   "outputs": [],
   "source": [
    "x_data = pd.read_csv(example_x, index_col=None)\n",
    "y_data = pd.read_csv(example_y, header=None, squeeze=True)\n",
    "# TODO Implement your data cleaning, feature engineering, and feature selection"
   ]
  },
  {
   "cell_type": "markdown",
   "metadata": {},
   "source": [
    "#### Build Model"
   ]
  },
  {
   "cell_type": "code",
   "execution_count": 5,
   "metadata": {},
   "outputs": [],
   "source": [
    "# TODO Implement your model here\n",
    "cls_model = AdaBoostClassifier(random_state=0, learning_rate=0.075, n_estimators=5)\n",
    "reg_model = AdaBoostRegressor(random_state=0, learning_rate=0.1, n_estimators=50)"
   ]
  },
  {
   "cell_type": "markdown",
   "metadata": {},
   "source": [
    "#### Validate Model Performance"
   ]
  },
  {
   "cell_type": "code",
   "execution_count": 6,
   "metadata": {},
   "outputs": [
    {
     "name": "stdout",
     "output_type": "stream",
     "text": [
      "Running score_classifier....\n",
      "\n",
      "with 3 splits and 10 repeats\n",
      "average log_loss: 4.437333548208271\n",
      "average roc_auc_score: 0.5430952380952382\n",
      "average confusion_matrix\n",
      "[[ 0.16666667  0.83333333]\n",
      " [ 1.16666667 13.5       ]]\n",
      "\n",
      "Running score_regressor....\n",
      "\n",
      "with 3 splits and 10 repeats\n",
      "average r2_score: -0.27168758708752155\n",
      "average rmse: 31.75756132541499\n"
     ]
    }
   ],
   "source": [
    "validation = ModelValidation()\n",
    "\n",
    "# Classification signature:\n",
    "print(\"Running score_classifier....\\n\")\n",
    "y_class = pd.Series([int(y <= 2) for y in y_data])\n",
    "cls_scoring_dict = validation.score_classifier(x_data, \n",
    "                                               y_class, \n",
    "                                               cls_model, \n",
    "                                               verbose=1)\n",
    "\n",
    "# Regression signature:\n",
    "print(\"\\nRunning score_regressor....\\n\")\n",
    "reg_scoring_dict = validation.score_regressor(x_data, \n",
    "                                              y_data, \n",
    "                                              reg_model, \n",
    "                                              verbose=1, \n",
    "                                              pos_split=2.1)"
   ]
  }
 ],
 "metadata": {
  "kernelspec": {
   "display_name": "Python [default]",
   "language": "python",
   "name": "python3"
  },
  "language_info": {
   "codemirror_mode": {
    "name": "ipython",
    "version": 3
   },
   "file_extension": ".py",
   "mimetype": "text/x-python",
   "name": "python",
   "nbconvert_exporter": "python",
   "pygments_lexer": "ipython3",
   "version": "3.6.4"
  }
 },
 "nbformat": 4,
 "nbformat_minor": 2
}
